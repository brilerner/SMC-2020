{
 "cells": [
  {
   "cell_type": "code",
   "execution_count": 1,
   "metadata": {},
   "outputs": [],
   "source": [
    "from utils import get_file"
   ]
  },
  {
   "cell_type": "code",
   "execution_count": 2,
   "metadata": {},
   "outputs": [],
   "source": [
    "import csv"
   ]
  },
  {
   "cell_type": "code",
   "execution_count": 3,
   "metadata": {},
   "outputs": [],
   "source": [
    "weather_path = get_file('weather')"
   ]
  },
  {
   "cell_type": "code",
   "execution_count": 4,
   "metadata": {},
   "outputs": [],
   "source": [
    "rows=[]\n",
    "with open(weather_path, \"r\") as f:\n",
    "    reader = csv.reader(f)\n",
    "    i=0\n",
    "    for row in reader:\n",
    "        rows.append(row)\n",
    "        i +=1\n",
    "        if i > 3:\n",
    "            break"
   ]
  },
  {
   "cell_type": "code",
   "execution_count": 5,
   "metadata": {},
   "outputs": [],
   "source": [
    "with open('tw.csv', mode='x') as f:\n",
    "    writer = csv.writer(f)\n",
    "    for row in rows:\n",
    "        writer.writerow(row)"
   ]
  },
  {
   "cell_type": "code",
   "execution_count": 6,
   "metadata": {},
   "outputs": [
    {
     "name": "stdout",
     "output_type": "stream",
     "text": [
      "bigquery.SchemaField(\"oid\", \"STRING\"),\n",
      "bigquery.SchemaField(\"time\", \"STRING\"),\n",
      "bigquery.SchemaField(\"lat\", \"STRING\"),\n",
      "bigquery.SchemaField(\"lon\", \"STRING\"),\n",
      "bigquery.SchemaField(\"temp_K\", \"STRING\"),\n",
      "bigquery.SchemaField(\"dewpt_K\", \"STRING\"),\n",
      "bigquery.SchemaField(\"RH_pct\", \"STRING\"),\n",
      "bigquery.SchemaField(\"pres_Pa\", \"STRING\"),\n",
      "bigquery.SchemaField(\"RadDir_Wm-2\", \"STRING\"),\n",
      "bigquery.SchemaField(\" RadDif_Wm-2\", \"STRING\"),\n",
      "bigquery.SchemaField(\"Longwave_Wm-2\", \"STRING\"),\n",
      "bigquery.SchemaField(\"ShortwaveNorm_Wm-2\", \"STRING\"),\n",
      "bigquery.SchemaField(\"Shortwave_Wm-2\", \"STRING\"),\n",
      "bigquery.SchemaField(\"WindDir_deg\", \"STRING\"),\n",
      "bigquery.SchemaField(\"WindSpd_ms-1\", \"STRING\"),\n",
      "bigquery.SchemaField(\"RainDpth_mm\", \"STRING\"),\n",
      "bigquery.SchemaField(\"     \", \"STRING\"),\n"
     ]
    }
   ],
   "source": [
    "for i in rows[0]:\n",
    "    print(f'bigquery.SchemaField(\"{i}\", \"STRING\"),')"
   ]
  }
 ],
 "metadata": {
  "kernelspec": {
   "display_name": "Python 3",
   "language": "python",
   "name": "python3"
  },
  "language_info": {
   "codemirror_mode": {
    "name": "ipython",
    "version": 3
   },
   "file_extension": ".py",
   "mimetype": "text/x-python",
   "name": "python",
   "nbconvert_exporter": "python",
   "pygments_lexer": "ipython3",
   "version": "3.7.7"
  }
 },
 "nbformat": 4,
 "nbformat_minor": 4
}
