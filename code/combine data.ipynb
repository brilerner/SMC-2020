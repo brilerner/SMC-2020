{
 "cells": [
  {
   "cell_type": "code",
   "execution_count": 9,
   "metadata": {},
   "outputs": [],
   "source": [
    "from utils import get_file, data_dir\n",
    "import pandas as pd\n",
    "import geopandas as gp\n",
    "import json\n",
    "from collections import defaultdict"
   ]
  },
  {
   "cell_type": "markdown",
   "metadata": {},
   "source": [
    "Building data"
   ]
  },
  {
   "cell_type": "code",
   "execution_count": 12,
   "metadata": {},
   "outputs": [
    {
     "data": {
      "text/html": [
       "<div>\n",
       "<style scoped>\n",
       "    .dataframe tbody tr th:only-of-type {\n",
       "        vertical-align: middle;\n",
       "    }\n",
       "\n",
       "    .dataframe tbody tr th {\n",
       "        vertical-align: top;\n",
       "    }\n",
       "\n",
       "    .dataframe thead th {\n",
       "        text-align: right;\n",
       "    }\n",
       "</style>\n",
       "<table border=\"1\" class=\"dataframe\">\n",
       "  <thead>\n",
       "    <tr style=\"text-align: right;\">\n",
       "      <th></th>\n",
       "      <th>BLDGID</th>\n",
       "      <th>MEAN_AVGHT</th>\n",
       "      <th>Lat</th>\n",
       "      <th>Lon</th>\n",
       "    </tr>\n",
       "  </thead>\n",
       "  <tbody>\n",
       "    <tr>\n",
       "      <th>0</th>\n",
       "      <td>1</td>\n",
       "      <td>1.74</td>\n",
       "      <td>41.867863</td>\n",
       "      <td>-87.628662</td>\n",
       "    </tr>\n",
       "    <tr>\n",
       "      <th>1</th>\n",
       "      <td>2</td>\n",
       "      <td>2.17</td>\n",
       "      <td>41.867859</td>\n",
       "      <td>-87.629822</td>\n",
       "    </tr>\n",
       "    <tr>\n",
       "      <th>2</th>\n",
       "      <td>4</td>\n",
       "      <td>2.97</td>\n",
       "      <td>41.867859</td>\n",
       "      <td>-87.629822</td>\n",
       "    </tr>\n",
       "    <tr>\n",
       "      <th>3</th>\n",
       "      <td>5</td>\n",
       "      <td>3.03</td>\n",
       "      <td>41.867863</td>\n",
       "      <td>-87.628662</td>\n",
       "    </tr>\n",
       "    <tr>\n",
       "      <th>4</th>\n",
       "      <td>10</td>\n",
       "      <td>3.73</td>\n",
       "      <td>41.867870</td>\n",
       "      <td>-87.626404</td>\n",
       "    </tr>\n",
       "  </tbody>\n",
       "</table>\n",
       "</div>"
      ],
      "text/plain": [
       "   BLDGID  MEAN_AVGHT        Lat        Lon\n",
       "0       1        1.74  41.867863 -87.628662\n",
       "1       2        2.17  41.867859 -87.629822\n",
       "2       4        2.97  41.867859 -87.629822\n",
       "3       5        3.03  41.867863 -87.628662\n",
       "4      10        3.73  41.867870 -87.626404"
      ]
     },
     "execution_count": 12,
     "metadata": {},
     "output_type": "execute_result"
    }
   ],
   "source": [
    "b_path = get_file('buildings')\n",
    "b_df = pd.read_csv(b_path)\n",
    "b_df.head()"
   ]
  },
  {
   "cell_type": "markdown",
   "metadata": {},
   "source": [
    "Morph data"
   ]
  },
  {
   "cell_type": "code",
   "execution_count": 2,
   "metadata": {},
   "outputs": [
    {
     "data": {
      "text/plain": [
       "WindowsPath('C:/Users/Brian/projects/SMC-2020/data/bldgenergyuse/4 - Simulate buildings for urban morphologies/morphology_data/NoMorph.json')"
      ]
     },
     "execution_count": 2,
     "metadata": {},
     "output_type": "execute_result"
    }
   ],
   "source": [
    "m_path = get_file('morphology')\n",
    "m_path"
   ]
  },
  {
   "cell_type": "code",
   "execution_count": 3,
   "metadata": {},
   "outputs": [],
   "source": [
    "with open(m_path, \"r\") as write_file:\n",
    "    m_data = json.load(write_file)"
   ]
  },
  {
   "cell_type": "code",
   "execution_count": 4,
   "metadata": {},
   "outputs": [],
   "source": [
    "m_keys = [int(i) for i in m_data.keys()]"
   ]
  },
  {
   "cell_type": "code",
   "execution_count": 6,
   "metadata": {},
   "outputs": [
    {
     "data": {
      "text/plain": [
       "{'area_total': 285.41,\n",
       " 'elec_per_area_total': 908.69,\n",
       " 'elec_total': 259.35,\n",
       " 'outputs': {'area': [{'': 'Total Building Area', 'Area [m2]': 285.41},\n",
       "   {'': 'Net Conditioned Building Area', 'Area [m2]': 285.41},\n",
       "   {'': 'Unconditioned Building Area', 'Area [m2]': 0.0}],\n",
       "  'end_uses': [{'': 'Heating',\n",
       "    'Additional Fuel [GJ]': 0.0,\n",
       "    'District Cooling [GJ]': 0.0,\n",
       "    'District Heating [GJ]': 0.0,\n",
       "    'Electricity [GJ]': 78.4,\n",
       "    'Natural Gas [GJ]': 4.86,\n",
       "    'Water [m3]': 0.0},\n",
       "   {'': 'Cooling',\n",
       "    'Additional Fuel [GJ]': 0.0,\n",
       "    'District Cooling [GJ]': 0.0,\n",
       "    'District Heating [GJ]': 0.0,\n",
       "    'Electricity [GJ]': 10.22,\n",
       "    'Natural Gas [GJ]': 0.0,\n",
       "    'Water [m3]': 0.0},\n",
       "   {'': 'Interior Lighting',\n",
       "    'Additional Fuel [GJ]': 0.0,\n",
       "    'District Cooling [GJ]': 0.0,\n",
       "    'District Heating [GJ]': 0.0,\n",
       "    'Electricity [GJ]': 26.59,\n",
       "    'Natural Gas [GJ]': 0.0,\n",
       "    'Water [m3]': 0.0},\n",
       "   {'': 'Exterior Lighting',\n",
       "    'Additional Fuel [GJ]': 0.0,\n",
       "    'District Cooling [GJ]': 0.0,\n",
       "    'District Heating [GJ]': 0.0,\n",
       "    'Electricity [GJ]': 106.87,\n",
       "    'Natural Gas [GJ]': 0.0,\n",
       "    'Water [m3]': 0.0},\n",
       "   {'': 'Interior Equipment',\n",
       "    'Additional Fuel [GJ]': 0.0,\n",
       "    'District Cooling [GJ]': 0.0,\n",
       "    'District Heating [GJ]': 0.0,\n",
       "    'Electricity [GJ]': 34.38,\n",
       "    'Natural Gas [GJ]': 0.0,\n",
       "    'Water [m3]': 0.0},\n",
       "   {'': 'Exterior Equipment',\n",
       "    'Additional Fuel [GJ]': 0.0,\n",
       "    'District Cooling [GJ]': 0.0,\n",
       "    'District Heating [GJ]': 0.0,\n",
       "    'Electricity [GJ]': 0.0,\n",
       "    'Natural Gas [GJ]': 0.0,\n",
       "    'Water [m3]': 0.0},\n",
       "   {'': 'Fans',\n",
       "    'Additional Fuel [GJ]': 0.0,\n",
       "    'District Cooling [GJ]': 0.0,\n",
       "    'District Heating [GJ]': 0.0,\n",
       "    'Electricity [GJ]': 2.88,\n",
       "    'Natural Gas [GJ]': 0.0,\n",
       "    'Water [m3]': 0.0},\n",
       "   {'': 'Pumps',\n",
       "    'Additional Fuel [GJ]': 0.0,\n",
       "    'District Cooling [GJ]': 0.0,\n",
       "    'District Heating [GJ]': 0.0,\n",
       "    'Electricity [GJ]': 0.0,\n",
       "    'Natural Gas [GJ]': 0.0,\n",
       "    'Water [m3]': 0.0},\n",
       "   {'': 'Heat Rejection',\n",
       "    'Additional Fuel [GJ]': 0.0,\n",
       "    'District Cooling [GJ]': 0.0,\n",
       "    'District Heating [GJ]': 0.0,\n",
       "    'Electricity [GJ]': 0.0,\n",
       "    'Natural Gas [GJ]': 0.0,\n",
       "    'Water [m3]': 0.0},\n",
       "   {'': 'Humidification',\n",
       "    'Additional Fuel [GJ]': 0.0,\n",
       "    'District Cooling [GJ]': 0.0,\n",
       "    'District Heating [GJ]': 0.0,\n",
       "    'Electricity [GJ]': 0.0,\n",
       "    'Natural Gas [GJ]': 0.0,\n",
       "    'Water [m3]': 0.0},\n",
       "   {'': 'Heat Recovery',\n",
       "    'Additional Fuel [GJ]': 0.0,\n",
       "    'District Cooling [GJ]': 0.0,\n",
       "    'District Heating [GJ]': 0.0,\n",
       "    'Electricity [GJ]': 0.0,\n",
       "    'Natural Gas [GJ]': 0.0,\n",
       "    'Water [m3]': 0.0},\n",
       "   {'': 'Water Systems',\n",
       "    'Additional Fuel [GJ]': 0.0,\n",
       "    'District Cooling [GJ]': 0.0,\n",
       "    'District Heating [GJ]': 0.0,\n",
       "    'Electricity [GJ]': 0.0,\n",
       "    'Natural Gas [GJ]': 40.27,\n",
       "    'Water [m3]': 15.94},\n",
       "   {'': 'Refrigeration',\n",
       "    'Additional Fuel [GJ]': 0.0,\n",
       "    'District Cooling [GJ]': 0.0,\n",
       "    'District Heating [GJ]': 0.0,\n",
       "    'Electricity [GJ]': 0.0,\n",
       "    'Natural Gas [GJ]': 0.0,\n",
       "    'Water [m3]': 0.0},\n",
       "   {'': 'Generators',\n",
       "    'Additional Fuel [GJ]': 0.0,\n",
       "    'District Cooling [GJ]': 0.0,\n",
       "    'District Heating [GJ]': 0.0,\n",
       "    'Electricity [GJ]': 0.0,\n",
       "    'Natural Gas [GJ]': 0.0,\n",
       "    'Water [m3]': 0.0},\n",
       "   {'': '',\n",
       "    'Additional Fuel [GJ]': '',\n",
       "    'District Cooling [GJ]': '',\n",
       "    'District Heating [GJ]': '',\n",
       "    'Electricity [GJ]': '',\n",
       "    'Natural Gas [GJ]': '',\n",
       "    'Water [m3]': ''},\n",
       "   {'': 'Total End Uses',\n",
       "    'Additional Fuel [GJ]': 0.0,\n",
       "    'District Cooling [GJ]': 0.0,\n",
       "    'District Heating [GJ]': 0.0,\n",
       "    'Electricity [GJ]': 259.35,\n",
       "    'Natural Gas [GJ]': 45.13,\n",
       "    'Water [m3]': 15.94}],\n",
       "  'utilities_per_cond_area': [{'': 'Lighting',\n",
       "    'Additional Fuel Intensity [MJ/m2]': 0.0,\n",
       "    'District Cooling Intensity [MJ/m2]': 0.0,\n",
       "    'District Heating Intensity [MJ/m2]': 0.0,\n",
       "    'Electricity Intensity [MJ/m2]': 467.63,\n",
       "    'Natural Gas Intensity [MJ/m2]': 0.0,\n",
       "    'Water Intensity [m3/m2]': 0.0},\n",
       "   {'': 'HVAC',\n",
       "    'Additional Fuel Intensity [MJ/m2]': 0.0,\n",
       "    'District Cooling Intensity [MJ/m2]': 0.0,\n",
       "    'District Heating Intensity [MJ/m2]': 0.0,\n",
       "    'Electricity Intensity [MJ/m2]': 320.6,\n",
       "    'Natural Gas Intensity [MJ/m2]': 158.13,\n",
       "    'Water Intensity [m3/m2]': 0.06},\n",
       "   {'': 'Other',\n",
       "    'Additional Fuel Intensity [MJ/m2]': 0.0,\n",
       "    'District Cooling Intensity [MJ/m2]': 0.0,\n",
       "    'District Heating Intensity [MJ/m2]': 0.0,\n",
       "    'Electricity Intensity [MJ/m2]': 120.46,\n",
       "    'Natural Gas Intensity [MJ/m2]': 0.0,\n",
       "    'Water Intensity [m3/m2]': 0.0},\n",
       "   {'': 'Total',\n",
       "    'Additional Fuel Intensity [MJ/m2]': 0.0,\n",
       "    'District Cooling Intensity [MJ/m2]': 0.0,\n",
       "    'District Heating Intensity [MJ/m2]': 0.0,\n",
       "    'Electricity Intensity [MJ/m2]': 908.69,\n",
       "    'Natural Gas Intensity [MJ/m2]': 158.13,\n",
       "    'Water Intensity [m3/m2]': 0.06}]}}"
      ]
     },
     "execution_count": 6,
     "metadata": {},
     "output_type": "execute_result"
    }
   ],
   "source": [
    "m_data[str(m_keys[0])]"
   ]
  },
  {
   "cell_type": "code",
   "execution_count": null,
   "metadata": {},
   "outputs": [],
   "source": [
    "len(m_keys)"
   ]
  },
  {
   "cell_type": "code",
   "execution_count": null,
   "metadata": {},
   "outputs": [],
   "source": [
    "m_data[str(m_keys[0])]"
   ]
  },
  {
   "cell_type": "code",
   "execution_count": null,
   "metadata": {},
   "outputs": [],
   "source": [
    "buildings_df = pd.read_csv(get_file('buildings'))\n",
    "morph_areas = []\n",
    "for i in buildings_df.BLDGID:\n",
    "    if i in keys:\n",
    "        morph_areas.append(float(morph_data[str(i)]['area_total']))\n",
    "    else:\n",
    "        morph_areas.append(0)"
   ]
  },
  {
   "cell_type": "markdown",
   "metadata": {},
   "source": [
    "Analysis data"
   ]
  },
  {
   "cell_type": "code",
   "execution_count": 7,
   "metadata": {},
   "outputs": [],
   "source": [
    "main = next(data_dir().rglob('analysis'))"
   ]
  },
  {
   "cell_type": "code",
   "execution_count": 10,
   "metadata": {},
   "outputs": [],
   "source": [
    "store = defaultdict(list)\n",
    "for folder in list(main.iterdir()):\n",
    "    if 'DS' in folder.name:\n",
    "        continue\n",
    "    store['id'].append(folder.name)\n",
    "    for file in folder.iterdir():\n",
    "        df = pd.read_csv(file)\n",
    "        val_sum = int(df.value.sum())\n",
    "        if 'energy' in file.name:\n",
    "            store['energy'].append(val_sum)\n",
    "        if 'gas' in file.name:\n",
    "            store['gas'].append(val_sum)\n",
    "a_df = pd.DataFrame(store)"
   ]
  },
  {
   "cell_type": "markdown",
   "metadata": {},
   "source": [
    "Compare ids "
   ]
  },
  {
   "cell_type": "code",
   "execution_count": 13,
   "metadata": {},
   "outputs": [
    {
     "name": "stdout",
     "output_type": "stream",
     "text": [
      "# of IDs\n",
      "buildings: 334\n",
      "morph: 318\n",
      "analysis: 83\n"
     ]
    }
   ],
   "source": [
    "print('# of IDs')\n",
    "print('buildings: {}'.format(len(b_df)))\n",
    "print('morph: {}'.format(len(m_keys)))\n",
    "print('analysis: {}'.format(len(a_df)))"
   ]
  },
  {
   "cell_type": "code",
   "execution_count": null,
   "metadata": {},
   "outputs": [],
   "source": [
    "len(set(m_keys) & set(b_df.BLDGID))"
   ]
  },
  {
   "cell_type": "code",
   "execution_count": null,
   "metadata": {},
   "outputs": [],
   "source": [
    "len(set(a_df.id) & set(b_df.BLDGID))"
   ]
  },
  {
   "cell_type": "code",
   "execution_count": null,
   "metadata": {},
   "outputs": [],
   "source": [
    "a_df[30:50]"
   ]
  },
  {
   "cell_type": "code",
   "execution_count": null,
   "metadata": {},
   "outputs": [],
   "source": [
    "t = b_df.BLDGID.astype(str)\n",
    "t[t.apply(lambda x : x if x[0] == '7' else None ).notnull()]"
   ]
  },
  {
   "cell_type": "code",
   "execution_count": null,
   "metadata": {},
   "outputs": [],
   "source": [
    "'test'[:-2]"
   ]
  },
  {
   "cell_type": "code",
   "execution_count": null,
   "metadata": {},
   "outputs": [],
   "source": [
    "match = defaultdict(list)\n",
    "for i in a_df.id.astype(str):\n",
    "    for j in b_df.BLDGID.astype(str):\n",
    "        if j == i[:-3] and i[0]==j[0]:\n",
    "            match[i].append(j)"
   ]
  },
  {
   "cell_type": "code",
   "execution_count": null,
   "metadata": {},
   "outputs": [],
   "source": [
    "group = defaultdict(list)\n",
    "for i in match:\n",
    "    group[i[:-3]].append(i[-3:])\n",
    "    "
   ]
  },
  {
   "cell_type": "code",
   "execution_count": null,
   "metadata": {},
   "outputs": [],
   "source": [
    "group"
   ]
  },
  {
   "cell_type": "markdown",
   "metadata": {},
   "source": [
    "Chi geojson"
   ]
  },
  {
   "cell_type": "code",
   "execution_count": 3,
   "metadata": {},
   "outputs": [],
   "source": [
    "df = gp.read_file('chi.geojson')"
   ]
  },
  {
   "cell_type": "code",
   "execution_count": 12,
   "metadata": {},
   "outputs": [
    {
     "data": {
      "text/plain": [
       "667"
      ]
     },
     "execution_count": 12,
     "metadata": {},
     "output_type": "execute_result"
    }
   ],
   "source": [
    "len(df)"
   ]
  },
  {
   "cell_type": "code",
   "execution_count": null,
   "metadata": {},
   "outputs": [],
   "source": [
    "df[df.stories != '0']"
   ]
  }
 ],
 "metadata": {
  "kernelspec": {
   "display_name": "Python 3",
   "language": "python",
   "name": "python3"
  },
  "language_info": {
   "codemirror_mode": {
    "name": "ipython",
    "version": 3
   },
   "file_extension": ".py",
   "mimetype": "text/x-python",
   "name": "python",
   "nbconvert_exporter": "python",
   "pygments_lexer": "ipython3",
   "version": "3.7.7"
  }
 },
 "nbformat": 4,
 "nbformat_minor": 4
}
