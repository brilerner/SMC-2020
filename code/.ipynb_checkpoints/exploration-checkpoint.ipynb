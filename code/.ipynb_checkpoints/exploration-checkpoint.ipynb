{
 "cells": [
  {
   "cell_type": "code",
   "execution_count": 2,
   "metadata": {},
   "outputs": [],
   "source": [
    "def data_dir():\n",
    "    \n",
    "    from pathlib import Path\n",
    "    \n",
    "    path = Path.cwd()\n",
    "    while not any(i.name == 'data' for i in path.iterdir()):\n",
    "        path = path.parent   \n",
    "        \n",
    "    return path / 'data'\n",
    "    \n",
    "\n",
    "def find_data(folder):\n",
    "    \n",
    "    \"\"\"\n",
    "    Find a path to a specific folder in the data folder.\n",
    "    \"\"\"\n",
    "    \n",
    "    from pathlib import Path\n",
    "\n",
    "    paths = list(data_dir().rglob(folder))\n",
    "    if len(paths) == 1:\n",
    "        return paths[0]\n",
    "    else:\n",
    "        print('Error: more than one path for folder name')\n",
    "        for i in paths:\n",
    "            print('{}'.format(i))"
   ]
  },
  {
   "cell_type": "code",
   "execution_count": 2,
   "metadata": {},
   "outputs": [],
   "source": [
    "import pandas as pd\n",
    "path = 'C:/Users/Brian/projects/data-challengers/data/weather/epvars90m_chilooponly_2015.loop.csv'\n",
    "df_iter = pd.read_csv(path, chunksize=4)"
   ]
  },
  {
   "cell_type": "code",
   "execution_count": 3,
   "metadata": {},
   "outputs": [],
   "source": [
    "df = next(df_iter)"
   ]
  },
  {
   "cell_type": "code",
   "execution_count": 8,
   "metadata": {},
   "outputs": [
    {
     "data": {
      "text/plain": [
       "oid                     int64\n",
       "time                   object\n",
       "lat                   float64\n",
       "lon                   float64\n",
       "temp_K                float64\n",
       "dewpt_K               float64\n",
       "RH_pct                float64\n",
       "pres_Pa               float64\n",
       "RadDir_Wm-2           float64\n",
       " RadDif_Wm-2          float64\n",
       "Longwave_Wm-2         float64\n",
       "ShortwaveNorm_Wm-2    float64\n",
       "Shortwave_Wm-2        float64\n",
       "WindDir_deg           float64\n",
       "WindSpd_ms-1          float64\n",
       "RainDpth_mm           float64\n",
       "                      float64\n",
       "dtype: object"
      ]
     },
     "execution_count": 8,
     "metadata": {},
     "output_type": "execute_result"
    }
   ],
   "source": [
    "df.dtypes"
   ]
  },
  {
   "cell_type": "code",
   "execution_count": 3,
   "metadata": {},
   "outputs": [
    {
     "ename": "MemoryError",
     "evalue": "",
     "output_type": "error",
     "traceback": [
      "\u001b[1;31m---------------------------------------------------------------------------\u001b[0m",
      "\u001b[1;31mMemoryError\u001b[0m                               Traceback (most recent call last)",
      "\u001b[1;32m<ipython-input-3-21d3083dc0b8>\u001b[0m in \u001b[0;36m<module>\u001b[1;34m\u001b[0m\n\u001b[0;32m      2\u001b[0m \u001b[0mfile\u001b[0m \u001b[1;33m=\u001b[0m \u001b[0mopen\u001b[0m\u001b[1;33m(\u001b[0m\u001b[0mpath\u001b[0m\u001b[1;33m)\u001b[0m\u001b[1;33m\u001b[0m\u001b[1;33m\u001b[0m\u001b[0m\n\u001b[0;32m      3\u001b[0m \u001b[0mreader\u001b[0m \u001b[1;33m=\u001b[0m \u001b[0mcsv\u001b[0m\u001b[1;33m.\u001b[0m\u001b[0mreader\u001b[0m\u001b[1;33m(\u001b[0m\u001b[0mfile\u001b[0m\u001b[1;33m)\u001b[0m\u001b[1;33m\u001b[0m\u001b[1;33m\u001b[0m\u001b[0m\n\u001b[1;32m----> 4\u001b[1;33m \u001b[0mlines\u001b[0m\u001b[1;33m=\u001b[0m \u001b[0mlen\u001b[0m\u001b[1;33m(\u001b[0m\u001b[0mlist\u001b[0m\u001b[1;33m(\u001b[0m\u001b[0mreader\u001b[0m\u001b[1;33m)\u001b[0m\u001b[1;33m)\u001b[0m\u001b[1;33m\u001b[0m\u001b[1;33m\u001b[0m\u001b[0m\n\u001b[0m\u001b[0;32m      5\u001b[0m \u001b[0mlines\u001b[0m\u001b[1;33m\u001b[0m\u001b[1;33m\u001b[0m\u001b[0m\n",
      "\u001b[1;31mMemoryError\u001b[0m: "
     ]
    }
   ],
   "source": [
    "import csv\n",
    "file = open(path)\n",
    "reader = csv.reader(file)\n",
    "lines= len(list(reader))\n",
    "lines"
   ]
  },
  {
   "cell_type": "code",
   "execution_count": 43,
   "metadata": {},
   "outputs": [],
   "source": [
    "def get_file(filespec):\n",
    "    \n",
    "    import pandas as pd\n",
    "    \n",
    "    if filespec == 'weather':\n",
    "        path = next(data_dir().rglob('epvars90m_ChiLoopOnly_2015.Loop.csv'))\n",
    "        pd.\n",
    "        \n",
    "    else:\n",
    "        print('File not found')\n",
    "        path = None\n",
    "        \n",
    "    return path"
   ]
  },
  {
   "cell_type": "code",
   "execution_count": 45,
   "metadata": {},
   "outputs": [
    {
     "data": {
      "text/plain": [
       "WindowsPath('C:/Users/Brian/projects/data-challengers/data/weather/epvars90m_chilooponly_2015.loop.csv')"
      ]
     },
     "execution_count": 45,
     "metadata": {},
     "output_type": "execute_result"
    }
   ],
   "source": [
    "a = get_file('weather')\n",
    "a"
   ]
  },
  {
   "cell_type": "code",
   "execution_count": 20,
   "metadata": {},
   "outputs": [
    {
     "data": {
      "text/plain": [
       "[WindowsPath('C:/Users/Brian/projects/data-challengers/data/buildings/chi0_90m_coord2bldg_smc.csv')]"
      ]
     },
     "execution_count": 20,
     "metadata": {},
     "output_type": "execute_result"
    }
   ],
   "source": [
    "list(find_data('buildings').iterdir())"
   ]
  }
 ],
 "metadata": {
  "kernelspec": {
   "display_name": "Python 3",
   "language": "python",
   "name": "python3"
  },
  "language_info": {
   "codemirror_mode": {
    "name": "ipython",
    "version": 3
   },
   "file_extension": ".py",
   "mimetype": "text/x-python",
   "name": "python",
   "nbconvert_exporter": "python",
   "pygments_lexer": "ipython3",
   "version": "3.6.10"
  }
 },
 "nbformat": 4,
 "nbformat_minor": 4
}
