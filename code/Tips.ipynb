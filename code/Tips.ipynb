{
 "cells": [
  {
   "cell_type": "markdown",
   "metadata": {},
   "source": [
    "**Geopandas (gp)**\n",
    "\n",
    "To save in geojson format, use:\n",
    "\n",
    "`geopandas_dataframe.to_file('example.geojson', driver='GeoJSON')`\n",
    "\n",
    "If you're having trouble saving, check to see if you're trying to save a Pandas dataframe. If so, convert to a GeoPandas dataframe with:\n",
    "\n",
    "`geopandas_dataframe = gp.GeoDataFrame(pandas_dataframe)`"
   ]
  },
  {
   "cell_type": "code",
   "execution_count": null,
   "metadata": {},
   "outputs": [],
   "source": []
  }
 ],
 "metadata": {
  "kernelspec": {
   "display_name": "Python 3",
   "language": "python",
   "name": "python3"
  },
  "language_info": {
   "codemirror_mode": {
    "name": "ipython",
    "version": 3
   },
   "file_extension": ".py",
   "mimetype": "text/x-python",
   "name": "python",
   "nbconvert_exporter": "python",
   "pygments_lexer": "ipython3",
   "version": "3.7.7"
  }
 },
 "nbformat": 4,
 "nbformat_minor": 4
}
